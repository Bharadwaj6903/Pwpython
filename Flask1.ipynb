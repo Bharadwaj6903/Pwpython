{
 "cells": [
  {
   "cell_type": "code",
   "execution_count": 1,
   "id": "e4c1754e",
   "metadata": {},
   "outputs": [
    {
     "name": "stdout",
     "output_type": "stream",
     "text": [
      " * Serving Flask app '__main__'\n",
      " * Debug mode: off\n"
     ]
    },
    {
     "name": "stderr",
     "output_type": "stream",
     "text": [
      "WARNING: This is a development server. Do not use it in a production deployment. Use a production WSGI server instead.\n",
      " * Running on http://127.0.0.1:5000\n",
      "Press CTRL+C to quit\n",
      "127.0.0.1 - - [03/May/2023 21:22:50] \"GET / HTTP/1.1\" 404 -\n",
      "127.0.0.1 - - [03/May/2023 21:22:50] \"GET /favicon.ico HTTP/1.1\" 404 -\n",
      "127.0.0.1 - - [03/May/2023 21:22:56] \"GET /hellow HTTP/1.1\" 200 -\n"
     ]
    }
   ],
   "source": [
    "#Q2\n",
    "from flask import Flask\n",
    "app= Flask(__name__)\n",
    "@app.route(\"/hellow\")\n",
    "def hel():\n",
    "    return \"Hello world\"\n",
    "if __name__=='__main__':\n",
    "    app.run()"
   ]
  },
  {
   "cell_type": "markdown",
   "id": "b849ae7d",
   "metadata": {},
   "source": [
    "![title](fl2.png)\n"
   ]
  },
  {
   "cell_type": "code",
   "execution_count": null,
   "id": "80ac3812",
   "metadata": {},
   "outputs": [],
   "source": [
    "#Q3\n",
    "App Routing means mapping the URLs to a specific function that will handle the logic for that URL.\n",
    "Modern web frameworks use more meaningful URLs to help users remember the URLs and make navigation simpler. \n",
    "\n",
    "Example: In our application, the URL (“/”) is associated with the root or home URL.\n",
    "    So if our site’s domain was www.example.org and we want to add routing to “www.example.org/hello”, we would use “/hello”.\n",
    "  \n",
    "    \n",
    "\n",
    "To bind a function to an URL path we use the app.route decorator.\n",
    "\n",
    "By using app routing we as a developer,can access a particular function or a form that runs on the server side"
   ]
  },
  {
   "cell_type": "code",
   "execution_count": null,
   "id": "9ad57346",
   "metadata": {},
   "outputs": [],
   "source": [
    "#Q1\n",
    "Flask is a web framework that provides libraries to build lightweight web applications in python. \n",
    "It is developed by Armin Ronacher who leads an international group of python enthusiasts (POCCO). \n",
    "It is based on WSGI toolkit and jinja2 template engine. Flask is considered as a micro framework.\n",
    "\n",
    "Advantages of flask:\n",
    "Higher compatibility with latest technologies\n",
    "Technical experimentation\n",
    "Easier to use for simple cases\n",
    "Codebase size is relatively smaller\n",
    "High scalability for simple applications,\n",
    "Easy to build a quick prototype\n",
    "Routing URL is easy\n",
    "Easy to develop and maintain applications\n",
    "Database integration is easy\n",
    "Small core and easily extensible\n",
    "Minimal yet powerful platform\n",
    "Lots of resources available online especially on GitHub\n"
   ]
  },
  {
   "cell_type": "markdown",
   "id": "36b45f02",
   "metadata": {},
   "source": [
    "![title](fl41.png)"
   ]
  },
  {
   "cell_type": "code",
   "execution_count": null,
   "id": "5605434d",
   "metadata": {},
   "outputs": [
    {
     "name": "stdout",
     "output_type": "stream",
     "text": [
      " * Serving Flask app '__main__'\n",
      " * Debug mode: off\n"
     ]
    },
    {
     "name": "stderr",
     "output_type": "stream",
     "text": [
      "WARNING: This is a development server. Do not use it in a production deployment. Use a production WSGI server instead.\n",
      " * Running on http://127.0.0.1:5000\n",
      "Press CTRL+C to quit\n",
      "127.0.0.1 - - [03/May/2023 22:21:22] \"GET / HTTP/1.1\" 200 -\n",
      "127.0.0.1 - - [03/May/2023 22:21:30] \"GET /welcome HTTP/1.1\" 200 -\n",
      "127.0.0.1 - - [03/May/2023 22:23:14] \"GET / HTTP/1.1\" 200 -\n"
     ]
    }
   ],
   "source": [
    "#Q4  Above output also belogs to Qustion 4 .i am unable to include 2 photos for 1 cell\n",
    "from flask import Flask\n",
    "app= Flask(__name__)\n",
    "@app.route(\"/welcome\")\n",
    "def hel():\n",
    "    return \"Welcome to Oracle corporation\"\n",
    "\n",
    "@app.route(\"/\")\n",
    "def details():\n",
    "    return \"Company name: Oracle Corporation </br>Location : India</br>Contact-Details : 999-999-9999 \"\n",
    "if __name__=='__main__':\n",
    "    app.run()"
   ]
  },
  {
   "cell_type": "markdown",
   "id": "7e05f0fa",
   "metadata": {},
   "source": [
    "![title](fl41.png)"
   ]
  },
  {
   "cell_type": "markdown",
   "id": "13806b24",
   "metadata": {},
   "source": [
    "![title](fl42.png)"
   ]
  },
  {
   "cell_type": "code",
   "execution_count": null,
   "id": "1ca0c913",
   "metadata": {},
   "outputs": [
    {
     "name": "stdout",
     "output_type": "stream",
     "text": [
      " * Serving Flask app '__main__'\n",
      " * Debug mode: off\n"
     ]
    },
    {
     "name": "stderr",
     "output_type": "stream",
     "text": [
      "WARNING: This is a development server. Do not use it in a production deployment. Use a production WSGI server instead.\n",
      " * Running on http://127.0.0.1:5000\n",
      "Press CTRL+C to quit\n",
      "127.0.0.1 - - [04/May/2023 07:47:52] \"GET / HTTP/1.1\" 404 -\n",
      "127.0.0.1 - - [04/May/2023 07:47:59] \"GET /results/22 HTTP/1.1\" 302 -\n",
      "127.0.0.1 - - [04/May/2023 07:47:59] \"GET /fail/22 HTTP/1.1\" 200 -\n",
      "127.0.0.1 - - [04/May/2023 07:49:42] \"GET /results/22 HTTP/1.1\" 302 -\n",
      "127.0.0.1 - - [04/May/2023 07:49:42] \"GET /fail/22 HTTP/1.1\" 200 -\n",
      "127.0.0.1 - - [04/May/2023 07:49:45] \"GET /results/55 HTTP/1.1\" 302 -\n",
      "127.0.0.1 - - [04/May/2023 07:49:45] \"GET /pass/55 HTTP/1.1\" 200 -\n"
     ]
    }
   ],
   "source": [
    "#Q5)  url_for is used for url binding\n",
    "from flask import Flask,redirect,url_for,request\n",
    "app= Flask(__name__)\n",
    "@app.route(\"/pass/<int:score>\")\n",
    "def p(score):\n",
    "    return \"Congrats,You have passed with marks \"+str(score) \n",
    "\n",
    "@app.route(\"/fail/<int:score>\")\n",
    "def f(score):\n",
    "    return \"Sorry,you have failed and your marks are \"+str(score) \n",
    "\n",
    "@app.route(\"/results/<int:marks>\")\n",
    "def res(marks):\n",
    "    result = \"\"\n",
    "   \n",
    "    if marks>35:\n",
    "        result=\"p\"\n",
    "        return redirect(url_for(result,score=marks))\n",
    "       \n",
    "    else:\n",
    "        \n",
    "        result=\"f\"\n",
    "        return redirect(url_for(result,score=marks))\n",
    "         \n",
    " \n",
    "\n",
    "if __name__=='__main__':\n",
    "    app.run()"
   ]
  },
  {
   "cell_type": "markdown",
   "id": "114089a2",
   "metadata": {},
   "source": [
    "![title](f51.png)"
   ]
  },
  {
   "cell_type": "code",
   "execution_count": null,
   "id": "3f8e1dcb",
   "metadata": {},
   "outputs": [],
   "source": []
  }
 ],
 "metadata": {
  "kernelspec": {
   "display_name": "Python 3 (ipykernel)",
   "language": "python",
   "name": "python3"
  },
  "language_info": {
   "codemirror_mode": {
    "name": "ipython",
    "version": 3
   },
   "file_extension": ".py",
   "mimetype": "text/x-python",
   "name": "python",
   "nbconvert_exporter": "python",
   "pygments_lexer": "ipython3",
   "version": "3.10.9"
  }
 },
 "nbformat": 4,
 "nbformat_minor": 5
}
